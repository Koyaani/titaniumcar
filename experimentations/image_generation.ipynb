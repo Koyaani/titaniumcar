{
 "cells": [
  {
   "cell_type": "code",
   "execution_count": 1,
   "metadata": {},
   "outputs": [],
   "source": [
    "from roadsimulator.colors import ColorRange, White\n",
    "from roadsimulator.layers.layers import Background, DrawLines, Perspective, Crop, Layer\n",
    "\n",
    "from roadsimulator.simulator import Simulator\n",
    "\n",
    "from PIL import ImageDraw\n",
    "import random"
   ]
  },
  {
   "cell_type": "markdown",
   "metadata": {},
   "source": [
    "# Génération d'images\n",
    "\n",
    "L'objectif était d'obtenir une grande quantité d'images déjà labélisées pour nourrir le réseau.\n",
    "\n",
    "Le package utilisé est [road simulator (github)](https://github.com/vinzeebreak/road_simulator). Nous avons commencé à l'adapter pour notre parcours. Les 2 classes résultantes sont juste des ébauches.\n",
    "\n",
    "Cf partie 6 figure 2.3 du rapport\n",
    "\n",
    "### Liste des cellules\n",
    "\n",
    " 1. Définition de transformers adaptés\n",
    " 2. Création du pipeline de génération d'images\n",
    " 3. Génération des images"
   ]
  },
  {
   "cell_type": "markdown",
   "metadata": {},
   "source": [
    "# Définition de transformers adaptés"
   ]
  },
  {
   "cell_type": "code",
   "execution_count": 2,
   "metadata": {},
   "outputs": [],
   "source": [
    "class Blue(ColorRange):\n",
    "    '''\n",
    "    Color Blue defined from a circuit picture\n",
    "    '''\n",
    "\n",
    "    def __init__(self, name='blue'):\n",
    "\n",
    "        if name is None:\n",
    "            raise ValueError('name must be different from None')\n",
    "\n",
    "        color = ColorRange(red=(115, 135), green=(125, 135), blue=(115, 125))\n",
    "\n",
    "        self.name = name\n",
    "        self.samples = color.samples\n",
    "\n",
    "        self.red = color.red\n",
    "        self.green = color.green\n",
    "        self.blue = color.blue\n",
    "\n",
    "\n",
    "        self.red_range = color.red_range\n",
    "        self.green_range = color.green_range\n",
    "        self.blue_range = color.blue_range\n",
    "\n",
    "        self.colors = color.colors\n",
    "        \n",
    "        \n",
    "class ObjectNoise(Layer):\n",
    "    \"\"\"\n",
    "    Not functional. Add black rectangle\n",
    "    \"\"\"\n",
    "    def __init__(self, name=\"ObjectNoise\", strength=0.3):\n",
    "        self.name = name\n",
    "        self.strength = strength\n",
    "        \n",
    "    def call(self, img):\n",
    "        draw = ImageDraw.Draw(img)\n",
    "        for i in range(10):\n",
    "            if self.strength > random.random():\n",
    "                color = random.randrange(0, 30)\n",
    "                color = (color, color, color)\n",
    "                \n",
    "                start = random.randrange(0, 530)\n",
    "                size = random.randrange(30, 200)\n",
    "                height = random.randrange(10, 40)\n",
    "                direction = random.choice([-1, 1])\n",
    "                \n",
    "                end = start + size * direction\n",
    "                draw.rectangle([0, 0, 200, 200], fill=(10, 10, 10))\n",
    "                \n",
    "        return img"
   ]
  },
  {
   "cell_type": "markdown",
   "metadata": {},
   "source": [
    "# Création du pipeline de génération d'images"
   ]
  },
  {
   "cell_type": "code",
   "execution_count": 3,
   "metadata": {},
   "outputs": [
    {
     "name": "stderr",
     "output_type": "stream",
     "text": [
      "loading images: 100%|██████████| 1/1 [00:00<00:00,  2.86it/s]\n",
      "rotating images: 100%|██████████| 1/1 [00:00<00:00,  5.57it/s]\n",
      "resizing images: 100%|██████████| 1/1 [00:00<00:00,  3.87it/s]\n",
      "cropping images: 100%|██████████| 1/1 [00:00<00:00, 264.56it/s]\n"
     ]
    }
   ],
   "source": [
    "blue = Blue()\n",
    "\n",
    "layers = [\n",
    "    Background(\n",
    "        n_backgrounds=1,\n",
    "        path='../data/images/ground/',\n",
    "        output_size=(725, 500),\n",
    "    ),\n",
    "    DrawLines(\n",
    "        color_range=blue,\n",
    "        thickness_range=[8, 7],\n",
    "        middle_line=(50, 30, \"dashed\", blue),\n",
    "    ),\n",
    "    Perspective(output_dim=(528, 300)),\n",
    "    #ObjectNoise(),\n",
    "    Crop(output_dim=(528, 146)),\n",
    "]"
   ]
  },
  {
   "cell_type": "markdown",
   "metadata": {},
   "source": [
    "# Génération des images"
   ]
  },
  {
   "cell_type": "code",
   "execution_count": 4,
   "metadata": {},
   "outputs": [
    {
     "name": "stderr",
     "output_type": "stream",
     "text": [
      "  0%|          | 0/32 [00:00<?, ?it/s]"
     ]
    },
    {
     "name": "stdout",
     "output_type": "stream",
     "text": [
      "The path `../data/outputs/simulated/` already exists !\n",
      "Deleting it...\n"
     ]
    },
    {
     "name": "stderr",
     "output_type": "stream",
     "text": [
      "100%|██████████| 32/32 [00:01<00:00, 18.29it/s]\n"
     ]
    }
   ],
   "source": [
    "simulator = Simulator(layers)\n",
    "\n",
    "simulator.generate(n_examples=32, path='../data/outputs/simulated/')"
   ]
  }
 ],
 "metadata": {
  "kernelspec": {
   "display_name": "Python 3",
   "language": "python",
   "name": "python3"
  },
  "language_info": {
   "codemirror_mode": {
    "name": "ipython",
    "version": 3
   },
   "file_extension": ".py",
   "mimetype": "text/x-python",
   "name": "python",
   "nbconvert_exporter": "python",
   "pygments_lexer": "ipython3",
   "version": "3.6.8"
  }
 },
 "nbformat": 4,
 "nbformat_minor": 4
}
