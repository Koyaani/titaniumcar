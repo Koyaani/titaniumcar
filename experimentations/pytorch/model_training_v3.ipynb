{
 "cells": [
  {
   "cell_type": "code",
   "execution_count": 1,
   "metadata": {},
   "outputs": [],
   "source": [
    "import os\n",
    "from tqdm.notebook import tqdm, tnrange\n",
    "\n",
    "import cv2\n",
    "import matplotlib.pyplot as plt\n",
    "import numpy as np\n",
    "\n",
    "import torch\n",
    "from torchvision import transforms\n",
    "import torch.nn as nn\n",
    "import torch.nn.functional as F\n",
    "from torch.utils.data import DataLoader\n",
    "\n",
    "from torch.utils.data import random_split\n",
    "from torch.optim import AdamW\n",
    "\n",
    "from torch.utils.data import Dataset, DataLoader\n",
    "from torchvision import transforms, utils"
   ]
  },
  {
   "cell_type": "markdown",
   "metadata": {},
   "source": [
    "# Deep Learning - Pytorch Edition\n",
    "\n",
    "Avant d'utiliser Tensorflow, nous avons essayé Pytorch. Cependant, nous avons du changer de framework pour des raisons de compatibilité avec la carte Raspberry.\n",
    "\n",
    "Toutes les étapes pour l'apprentissage sont fonctionnelles, du chargement du dataset à l'observation des prédiction. Il y a aussi une transformation des poids au format de Pytorch au format onnx.\n",
    "\n",
    "Cf section XXX du rapport\n",
    "\n",
    "### Liste des cellules\n",
    "\n",
    " 1. Création de la class Dataset\n",
    " 1. Création des étapes de preprocessing\n",
    " 1. Chargement des données\n",
    " 1. Historgramme d'une image après le preprocessing\n",
    " 1. Création du modèle de Deep Learning\n",
    " 1. Création de la boucle d'entrainement\n",
    " 1. Entrainement\n",
    " 1. Comparaison des prédictions par rapport à la vérité terrain \n",
    " 1. Transformation des poids au format onnx"
   ]
  },
  {
   "cell_type": "markdown",
   "metadata": {},
   "source": [
    "# Création de la class Dataset"
   ]
  },
  {
   "cell_type": "code",
   "execution_count": 2,
   "metadata": {},
   "outputs": [],
   "source": [
    "def get_labels(name):\n",
    "    labels = name[0].split(\"_\")\n",
    "    direction = float(labels[2])\n",
    "#     direction -= 228\n",
    "#     direction /= 228\n",
    "        \n",
    "    speed =  float(labels[3][:-4])\n",
    "#     speed -= 114\n",
    "#     speed /= 114\n",
    "    \n",
    "    return [direction, speed]\n",
    "\n",
    "class RoadDataset(Dataset):\n",
    "    def __init__(self, root_dir, num_img=None, transform=None):\n",
    "        self.root_dir = root_dir\n",
    "        \n",
    "        image_name_list = np.array([\n",
    "            name for name in os.listdir(root_dir)\n",
    "                if os.path.isfile(os.path.join(root_dir, name)) and \".png\" in name\n",
    "        ])\n",
    "        \n",
    "        self._get_list_image(image_name_list, num_img)\n",
    "            \n",
    "        self.transform = transform\n",
    "        \n",
    "    def _get_list_image(self, name_list, num):\n",
    "        np.random.shuffle(name_list)\n",
    "        \n",
    "        if num is None or num > len(name_list):\n",
    "            num = len(name_list)\n",
    "            \n",
    "        self.image_names = name_list[:num]\n",
    "        names = np.expand_dims(self.image_names, axis=0)    \n",
    "        self.labels = np.apply_along_axis(get_labels, 0, names)\n",
    "        \n",
    "    def __len__(self):\n",
    "        return len(self.image_names)\n",
    "    \n",
    "    def __getitem__(self, idx):\n",
    "        if torch.is_tensor(idx):\n",
    "            idx = idx.tolist()\n",
    "\n",
    "        img_name = os.path.join(self.root_dir, self.image_names[idx])\n",
    "        image = cv2.imread(img_name, cv2.IMREAD_GRAYSCALE)\n",
    "        image = image.reshape(114, 228, -1)\n",
    "        \n",
    "        labels = self.labels[:, idx]\n",
    "\n",
    "        if self.transform:\n",
    "            sample = self.transform(image)\n",
    "            \n",
    "        return sample, labels"
   ]
  },
  {
   "cell_type": "markdown",
   "metadata": {},
   "source": [
    "# Création des étapes de preprocessing"
   ]
  },
  {
   "cell_type": "code",
   "execution_count": 3,
   "metadata": {},
   "outputs": [],
   "source": [
    "class ToTensor:\n",
    "    \"\"\"Convert ndarrays in sample to Tensors.\"\"\"\n",
    "\n",
    "    def __call__(self, sample):\n",
    "        # swap color axis because\n",
    "        # numpy image: H x W x C\n",
    "        # torch image: C X H X W\n",
    "        image = sample.transpose((2, 0, 1))\n",
    "        return torch.from_numpy(image)\n",
    "\n",
    "\n",
    "class Normalize():\n",
    "    \n",
    "    def __call__(self, sample):\n",
    "        norm_img = np.zeros(sample.shape)\n",
    "        norm_img = cv2.normalize(sample, norm_img, 0, 255, cv2.NORM_MINMAX)\n",
    "        norm_img = norm_img.reshape(69, 223, -1)\n",
    "        return norm_img\n",
    "    \n",
    "class Crop:\n",
    "    def __call__(self, sample):\n",
    "        width = sample.shape[1]\n",
    "        return sample[45:, :width-5]"
   ]
  },
  {
   "cell_type": "markdown",
   "metadata": {},
   "source": [
    "# Chargement des données"
   ]
  },
  {
   "cell_type": "code",
   "execution_count": 4,
   "metadata": {},
   "outputs": [
    {
     "name": "stdout",
     "output_type": "stream",
     "text": [
      "18000\n"
     ]
    }
   ],
   "source": [
    "torch.manual_seed(0)\n",
    "\n",
    "tsfrm = transforms.Compose([Crop(), Normalize(), ToTensor()])\n",
    "dataset = RoadDataset(\"../../data/datasetv3/\", num_img=18000, transform=tsfrm)\n",
    "print(len(dataset))\n",
    "\n",
    "train_size = int(0.8 * len(dataset))\n",
    "test_size = len(dataset) - train_size\n",
    "train_dataset, test_dataset = random_split(dataset, [train_size, test_size])\n",
    "\n",
    "train_dataset_loader = DataLoader(dataset=train_dataset, batch_size=256, shuffle=True)\n",
    "test_dataset_loader = DataLoader(dataset=test_dataset, batch_size=256, shuffle=True)"
   ]
  },
  {
   "cell_type": "markdown",
   "metadata": {},
   "source": [
    "# Historgramme d'une image après le preprocessing"
   ]
  },
  {
   "cell_type": "code",
   "execution_count": 5,
   "metadata": {},
   "outputs": [
    {
     "name": "stdout",
     "output_type": "stream",
     "text": [
      "torch.Size([69, 223])\n"
     ]
    },
    {
     "data": {
      "image/png": "[encoded data removed]",
      "text/plain": [
       "<Figure size 432x288 with 1 Axes>"
      ]
     },
     "metadata": {
      "needs_background": "light"
     },
     "output_type": "display_data"
    }
   ],
   "source": [
    "image = next(iter(train_dataset_loader))[0][0].reshape((69, 223))\n",
    "\n",
    "print(image.shape)\n",
    "\n",
    "plt.hist(image)\n",
    "plt.show()"
   ]
  },
  {
   "cell_type": "markdown",
   "metadata": {},
   "source": [
    "# Création du modèle de Deep Learning"
   ]
  },
  {
   "cell_type": "code",
   "execution_count": 6,
   "metadata": {},
   "outputs": [],
   "source": [
    "class Network(nn.Module):\n",
    "    def __init__(self):\n",
    "        super().__init__()\n",
    "        nn.Conv2d\n",
    "        self.cnn_layers = nn.Sequential(\n",
    "            nn.Conv2d(in_channels=1, out_channels=3, kernel_size=3),\n",
    "            nn.MaxPool2d(kernel_size=(2, 2), stride=(2,2)),\n",
    "            nn.ReLU(),\n",
    "            \n",
    "            nn.Conv2d(in_channels=3, out_channels=3, kernel_size=3),\n",
    "            nn.MaxPool2d(kernel_size=(2, 2), stride=(2,2)),\n",
    "            nn.ReLU(),\n",
    "            \n",
    "            nn.Conv2d(in_channels=3, out_channels=3, kernel_size=3),\n",
    "            nn.MaxPool2d(kernel_size=(2, 2), stride=(2,2)),\n",
    "            nn.ReLU(),\n",
    "        )\n",
    "        \n",
    "        self.flatten = nn.Flatten()\n",
    "        \n",
    "        self.linear_layers = nn.Sequential(\n",
    "            nn.Linear(468, 50),\n",
    "            nn.ReLU(),\n",
    "            nn.Linear(50, 8),\n",
    "            nn.ReLU(),\n",
    "            nn.Linear(8, 2),\n",
    "        )\n",
    "\n",
    "    def forward(self, x):        \n",
    "        x = self.cnn_layers(x)\n",
    "        x = self.flatten(x)\n",
    "        x = self.linear_layers(x)\n",
    "        return x\n",
    "        "
   ]
  },
  {
   "cell_type": "markdown",
   "metadata": {},
   "source": [
    "# Création de la boucle d'entrainement"
   ]
  },
  {
   "cell_type": "code",
   "execution_count": 7,
   "metadata": {},
   "outputs": [],
   "source": [
    "def train_and_build(n_epoches):\n",
    "    loss_sum = 0\n",
    "    iter_loss_update = 50\n",
    "    loss_log = tqdm(total=50, desc='Loss', position=3)\n",
    "    j = 0\n",
    "    \n",
    "    for epoch in tnrange(n_epoches+1, desc='Epoch', position=1):\n",
    "        nn_model.train()\n",
    "        \n",
    "        tq = tqdm(train_dataset_loader, desc='Batch', position=2, leave=False)\n",
    "        for _, (images, labels) in enumerate(tq):\n",
    "            optimizer.zero_grad()\n",
    "            \n",
    "            images = images.float()\n",
    "            labels = labels.float()\n",
    "            \n",
    "            outputs = nn_model(images)\n",
    "            \n",
    "            loss = loss_fn(outputs, labels)\n",
    "            \n",
    "            loss_sum += loss.data.item()\n",
    "            if j % iter_loss_update == iter_loss_update-1:\n",
    "                j = 0\n",
    "                loss_log.set_description_str('Loss: {:.3f}'.format(loss_sum/iter_loss_update))\n",
    "                loss_sum = 0\n",
    "                loss_log.reset()\n",
    "                \n",
    "            loss.backward()\n",
    "            optimizer.step()\n",
    "            \n",
    "            j += 1\n",
    "            loss_log.update()\n",
    "            \n",
    "        if epoch%10 == 9:\n",
    "            torch.save(nn_model.state_dict(), f\"../../data/weights/weights_torch_v3_{epoch}.weights\")"
   ]
  },
  {
   "cell_type": "markdown",
   "metadata": {},
   "source": [
    "# Entrainement"
   ]
  },
  {
   "cell_type": "code",
   "execution_count": 8,
   "metadata": {},
   "outputs": [
    {
     "data": {
      "application/vnd.jupyter.widget-view+json": {
       "model_id": "036abd5b4be84de388d02c48bc129aae",
       "version_major": 2,
       "version_minor": 0
      },
      "text/plain": [
       "Loss:   0%|          | 0/50 [00:00<?, ?it/s]"
      ]
     },
     "metadata": {},
     "output_type": "display_data"
    },
    {
     "data": {
      "application/vnd.jupyter.widget-view+json": {
       "model_id": "1e6de51d785f434398a0d5b62680a34a",
       "version_major": 2,
       "version_minor": 0
      },
      "text/plain": [
       "Epoch:   0%|          | 0/22 [00:00<?, ?it/s]"
      ]
     },
     "metadata": {},
     "output_type": "display_data"
    },
    {
     "data": {
      "application/vnd.jupyter.widget-view+json": {
       "model_id": "",
       "version_major": 2,
       "version_minor": 0
      },
      "text/plain": [
       "Batch:   0%|          | 0/57 [00:00<?, ?it/s]"
      ]
     },
     "metadata": {},
     "output_type": "display_data"
    },
    {
     "data": {
      "application/vnd.jupyter.widget-view+json": {
       "model_id": "",
       "version_major": 2,
       "version_minor": 0
      },
      "text/plain": [
       "Batch:   0%|          | 0/57 [00:00<?, ?it/s]"
      ]
     },
     "metadata": {},
     "output_type": "display_data"
    },
    {
     "data": {
      "application/vnd.jupyter.widget-view+json": {
       "model_id": "",
       "version_major": 2,
       "version_minor": 0
      },
      "text/plain": [
       "Batch:   0%|          | 0/57 [00:00<?, ?it/s]"
      ]
     },
     "metadata": {},
     "output_type": "display_data"
    },
    {
     "data": {
      "application/vnd.jupyter.widget-view+json": {
       "model_id": "",
       "version_major": 2,
       "version_minor": 0
      },
      "text/plain": [
       "Batch:   0%|          | 0/57 [00:00<?, ?it/s]"
      ]
     },
     "metadata": {},
     "output_type": "display_data"
    },
    {
     "data": {
      "application/vnd.jupyter.widget-view+json": {
       "model_id": "",
       "version_major": 2,
       "version_minor": 0
      },
      "text/plain": [
       "Batch:   0%|          | 0/57 [00:00<?, ?it/s]"
      ]
     },
     "metadata": {},
     "output_type": "display_data"
    },
    {
     "data": {
      "application/vnd.jupyter.widget-view+json": {
       "model_id": "",
       "version_major": 2,
       "version_minor": 0
      },
      "text/plain": [
       "Batch:   0%|          | 0/57 [00:00<?, ?it/s]"
      ]
     },
     "metadata": {},
     "output_type": "display_data"
    },
    {
     "data": {
      "application/vnd.jupyter.widget-view+json": {
       "model_id": "",
       "version_major": 2,
       "version_minor": 0
      },
      "text/plain": [
       "Batch:   0%|          | 0/57 [00:00<?, ?it/s]"
      ]
     },
     "metadata": {},
     "output_type": "display_data"
    },
    {
     "data": {
      "application/vnd.jupyter.widget-view+json": {
       "model_id": "",
       "version_major": 2,
       "version_minor": 0
      },
      "text/plain": [
       "Batch:   0%|          | 0/57 [00:00<?, ?it/s]"
      ]
     },
     "metadata": {},
     "output_type": "display_data"
    },
    {
     "data": {
      "application/vnd.jupyter.widget-view+json": {
       "model_id": "",
       "version_major": 2,
       "version_minor": 0
      },
      "text/plain": [
       "Batch:   0%|          | 0/57 [00:00<?, ?it/s]"
      ]
     },
     "metadata": {},
     "output_type": "display_data"
    },
    {
     "data": {
      "application/vnd.jupyter.widget-view+json": {
       "model_id": "",
       "version_major": 2,
       "version_minor": 0
      },
      "text/plain": [
       "Batch:   0%|          | 0/57 [00:00<?, ?it/s]"
      ]
     },
     "metadata": {},
     "output_type": "display_data"
    },
    {
     "data": {
      "application/vnd.jupyter.widget-view+json": {
       "model_id": "",
       "version_major": 2,
       "version_minor": 0
      },
      "text/plain": [
       "Batch:   0%|          | 0/57 [00:00<?, ?it/s]"
      ]
     },
     "metadata": {},
     "output_type": "display_data"
    },
    {
     "data": {
      "application/vnd.jupyter.widget-view+json": {
       "model_id": "",
       "version_major": 2,
       "version_minor": 0
      },
      "text/plain": [
       "Batch:   0%|          | 0/57 [00:00<?, ?it/s]"
      ]
     },
     "metadata": {},
     "output_type": "display_data"
    },
    {
     "data": {
      "application/vnd.jupyter.widget-view+json": {
       "model_id": "",
       "version_major": 2,
       "version_minor": 0
      },
      "text/plain": [
       "Batch:   0%|          | 0/57 [00:00<?, ?it/s]"
      ]
     },
     "metadata": {},
     "output_type": "display_data"
    },
    {
     "data": {
      "application/vnd.jupyter.widget-view+json": {
       "model_id": "",
       "version_major": 2,
       "version_minor": 0
      },
      "text/plain": [
       "Batch:   0%|          | 0/57 [00:00<?, ?it/s]"
      ]
     },
     "metadata": {},
     "output_type": "display_data"
    },
    {
     "data": {
      "application/vnd.jupyter.widget-view+json": {
       "model_id": "",
       "version_major": 2,
       "version_minor": 0
      },
      "text/plain": [
       "Batch:   0%|          | 0/57 [00:00<?, ?it/s]"
      ]
     },
     "metadata": {},
     "output_type": "display_data"
    },
    {
     "data": {
      "application/vnd.jupyter.widget-view+json": {
       "model_id": "",
       "version_major": 2,
       "version_minor": 0
      },
      "text/plain": [
       "Batch:   0%|          | 0/57 [00:00<?, ?it/s]"
      ]
     },
     "metadata": {},
     "output_type": "display_data"
    },
    {
     "data": {
      "application/vnd.jupyter.widget-view+json": {
       "model_id": "",
       "version_major": 2,
       "version_minor": 0
      },
      "text/plain": [
       "Batch:   0%|          | 0/57 [00:00<?, ?it/s]"
      ]
     },
     "metadata": {},
     "output_type": "display_data"
    },
    {
     "data": {
      "application/vnd.jupyter.widget-view+json": {
       "model_id": "",
       "version_major": 2,
       "version_minor": 0
      },
      "text/plain": [
       "Batch:   0%|          | 0/57 [00:00<?, ?it/s]"
      ]
     },
     "metadata": {},
     "output_type": "display_data"
    },
    {
     "data": {
      "application/vnd.jupyter.widget-view+json": {
       "model_id": "",
       "version_major": 2,
       "version_minor": 0
      },
      "text/plain": [
       "Batch:   0%|          | 0/57 [00:00<?, ?it/s]"
      ]
     },
     "metadata": {},
     "output_type": "display_data"
    },
    {
     "data": {
      "application/vnd.jupyter.widget-view+json": {
       "model_id": "",
       "version_major": 2,
       "version_minor": 0
      },
      "text/plain": [
       "Batch:   0%|          | 0/57 [00:00<?, ?it/s]"
      ]
     },
     "metadata": {},
     "output_type": "display_data"
    },
    {
     "data": {
      "application/vnd.jupyter.widget-view+json": {
       "model_id": "",
       "version_major": 2,
       "version_minor": 0
      },
      "text/plain": [
       "Batch:   0%|          | 0/57 [00:00<?, ?it/s]"
      ]
     },
     "metadata": {},
     "output_type": "display_data"
    },
    {
     "data": {
      "application/vnd.jupyter.widget-view+json": {
       "model_id": "",
       "version_major": 2,
       "version_minor": 0
      },
      "text/plain": [
       "Batch:   0%|          | 0/57 [00:00<?, ?it/s]"
      ]
     },
     "metadata": {},
     "output_type": "display_data"
    }
   ],
   "source": [
    "nn_model = Network()\n",
    "optimizer = AdamW(nn_model.parameters(), lr=0.001)\n",
    "\n",
    "loss_fn = nn.MSELoss()\n",
    "\n",
    "train_and_build(21)"
   ]
  },
  {
   "cell_type": "markdown",
   "metadata": {},
   "source": [
    "# Comparaison des prédictions par rapport à la vérité terrain "
   ]
  },
  {
   "cell_type": "code",
   "execution_count": 11,
   "metadata": {},
   "outputs": [
    {
     "data": {
      "image/png": "[encoded data removed]",
      "text/plain": [
       "<Figure size 432x288 with 1 Axes>"
      ]
     },
     "metadata": {
      "needs_background": "light"
     },
     "output_type": "display_data"
    },
    {
     "data": {
      "image/png": "[encoded data removed]",
      "text/plain": [
       "<Figure size 432x288 with 1 Axes>"
      ]
     },
     "metadata": {
      "needs_background": "light"
     },
     "output_type": "display_data"
    },
    {
     "name": "stdout",
     "output_type": "stream",
     "text": [
      "tensor(0.0439)\n"
     ]
    }
   ],
   "source": [
    "with torch.no_grad():\n",
    "    nn_model = Network().cpu()\n",
    "    nn_model.load_state_dict(torch.load(\"../../data/weights/weights_torch_v3_19.weights\"))\n",
    "    nn_model.eval()\n",
    "\n",
    "    loss_fn = nn.MSELoss()\n",
    "\n",
    "    test_acc_count = 0\n",
    "    loss_sum = 0\n",
    "\n",
    "    plt.figure(0)\n",
    "    plt.plot([-2, 2], [-2, 2], color=\"red\")\n",
    "    plt.figure(1)\n",
    "    plt.plot([-2, 2], [-2, 2], color=\"red\")\n",
    "\n",
    "    for k, (test_images, test_labels) in enumerate(test_dataset_loader):\n",
    "        test_images = test_images.float()\n",
    "        test_labels = test_labels.float()\n",
    "\n",
    "        test_outputs = nn_model(test_images)\n",
    "        loss_sum += loss_fn(test_outputs, test_labels).detach()\n",
    "\n",
    "        test_outputs = test_outputs.cpu().detach().numpy()\n",
    "        test_labels = test_labels.cpu().detach().numpy()\n",
    "        \n",
    "        plt.figure(0)\n",
    "        plt.plot(test_labels[:, 0], test_outputs[:, 0], ',', color=\"blue\")\n",
    "        plt.figure(1)\n",
    "        plt.plot(test_labels[:, 1], test_outputs[:, 1], ',', color=\"blue\")\n",
    "\n",
    "    plt.show()\n",
    "    print((loss_sum/(k+1)).float())"
   ]
  },
  {
   "cell_type": "markdown",
   "metadata": {},
   "source": [
    "# Transformation des poids au format onnx"
   ]
  },
  {
   "cell_type": "code",
   "execution_count": 12,
   "metadata": {},
   "outputs": [
    {
     "name": "stdout",
     "output_type": "stream",
     "text": [
      "graph(%input.1 : Float(1:15387, 1:15387, 69:223, 223:1, requires_grad=0, device=cpu),\n",
      "      %cnn_layers.0.weight : Float(3:9, 1:9, 3:3, 3:1, requires_grad=1, device=cpu),\n",
      "      %cnn_layers.0.bias : Float(3:1, requires_grad=1, device=cpu),\n",
      "      %cnn_layers.3.weight : Float(3:27, 3:9, 3:3, 3:1, requires_grad=1, device=cpu),\n",
      "      %cnn_layers.3.bias : Float(3:1, requires_grad=1, device=cpu),\n",
      "      %cnn_layers.6.weight : Float(3:27, 3:9, 3:3, 3:1, requires_grad=1, device=cpu),\n",
      "      %cnn_layers.6.bias : Float(3:1, requires_grad=1, device=cpu),\n",
      "      %linear_layers.0.weight : Float(50:468, 468:1, requires_grad=1, device=cpu),\n",
      "      %linear_layers.0.bias : Float(50:1, requires_grad=1, device=cpu),\n",
      "      %linear_layers.2.weight : Float(8:50, 50:1, requires_grad=1, device=cpu),\n",
      "      %linear_layers.2.bias : Float(8:1, requires_grad=1, device=cpu),\n",
      "      %linear_layers.4.weight : Float(2:8, 8:1, requires_grad=1, device=cpu),\n",
      "      %linear_layers.4.bias : Float(2:1, requires_grad=1, device=cpu)):\n",
      "  %13 : Float(1:44421, 3:14807, 67:221, 221:1, requires_grad=1, device=cpu) = onnx::Conv[dilations=[1, 1], group=1, kernel_shape=[3, 3], pads=[0, 0, 0, 0], strides=[1, 1]](%input.1, %cnn_layers.0.weight, %cnn_layers.0.bias) # /home/work/.miniconda3/envs/titaniumcar/lib/python3.7/site-packages/torch/nn/modules/conv.py:420:0\n",
      "  %14 : Float(1:10890, 3:3630, 33:110, 110:1, requires_grad=1, device=cpu) = onnx::MaxPool[kernel_shape=[2, 2], pads=[0, 0, 0, 0], strides=[2, 2]](%13) # /home/work/.miniconda3/envs/titaniumcar/lib/python3.7/site-packages/torch/nn/functional.py:586:0\n",
      "  %15 : Float(1:10890, 3:3630, 33:110, 110:1, requires_grad=1, device=cpu) = onnx::Relu(%14) # /home/work/.miniconda3/envs/titaniumcar/lib/python3.7/site-packages/torch/nn/functional.py:1136:0\n",
      "  %16 : Float(1:10044, 3:3348, 31:108, 108:1, requires_grad=1, device=cpu) = onnx::Conv[dilations=[1, 1], group=1, kernel_shape=[3, 3], pads=[0, 0, 0, 0], strides=[1, 1]](%15, %cnn_layers.3.weight, %cnn_layers.3.bias) # /home/work/.miniconda3/envs/titaniumcar/lib/python3.7/site-packages/torch/nn/modules/conv.py:420:0\n",
      "  %17 : Float(1:2430, 3:810, 15:54, 54:1, requires_grad=1, device=cpu) = onnx::MaxPool[kernel_shape=[2, 2], pads=[0, 0, 0, 0], strides=[2, 2]](%16) # /home/work/.miniconda3/envs/titaniumcar/lib/python3.7/site-packages/torch/nn/functional.py:586:0\n",
      "  %18 : Float(1:2430, 3:810, 15:54, 54:1, requires_grad=1, device=cpu) = onnx::Relu(%17) # /home/work/.miniconda3/envs/titaniumcar/lib/python3.7/site-packages/torch/nn/functional.py:1136:0\n",
      "  %19 : Float(1:2028, 3:676, 13:52, 52:1, requires_grad=1, device=cpu) = onnx::Conv[dilations=[1, 1], group=1, kernel_shape=[3, 3], pads=[0, 0, 0, 0], strides=[1, 1]](%18, %cnn_layers.6.weight, %cnn_layers.6.bias) # /home/work/.miniconda3/envs/titaniumcar/lib/python3.7/site-packages/torch/nn/modules/conv.py:420:0\n",
      "  %20 : Float(1:468, 3:156, 6:26, 26:1, requires_grad=1, device=cpu) = onnx::MaxPool[kernel_shape=[2, 2], pads=[0, 0, 0, 0], strides=[2, 2]](%19) # /home/work/.miniconda3/envs/titaniumcar/lib/python3.7/site-packages/torch/nn/functional.py:586:0\n",
      "  %21 : Float(1:468, 3:156, 6:26, 26:1, requires_grad=1, device=cpu) = onnx::Relu(%20) # /home/work/.miniconda3/envs/titaniumcar/lib/python3.7/site-packages/torch/nn/functional.py:1136:0\n",
      "  %22 : Float(1:468, 468:1, requires_grad=1, device=cpu) = onnx::Flatten[axis=1](%21) # /home/work/.miniconda3/envs/titaniumcar/lib/python3.7/site-packages/torch/nn/modules/flatten.py:40:0\n",
      "  %23 : Float(1:50, 50:1, requires_grad=1, device=cpu) = onnx::Gemm[alpha=1., beta=1., transB=1](%22, %linear_layers.0.weight, %linear_layers.0.bias) # /home/work/.miniconda3/envs/titaniumcar/lib/python3.7/site-packages/torch/nn/functional.py:1690:0\n",
      "  %24 : Float(1:50, 50:1, requires_grad=1, device=cpu) = onnx::Relu(%23) # /home/work/.miniconda3/envs/titaniumcar/lib/python3.7/site-packages/torch/nn/functional.py:1136:0\n",
      "  %25 : Float(1:8, 8:1, requires_grad=1, device=cpu) = onnx::Gemm[alpha=1., beta=1., transB=1](%24, %linear_layers.2.weight, %linear_layers.2.bias) # /home/work/.miniconda3/envs/titaniumcar/lib/python3.7/site-packages/torch/nn/functional.py:1690:0\n",
      "  %26 : Float(1:8, 8:1, requires_grad=1, device=cpu) = onnx::Relu(%25) # /home/work/.miniconda3/envs/titaniumcar/lib/python3.7/site-packages/torch/nn/functional.py:1136:0\n",
      "  %27 : Float(1:2, 2:1, requires_grad=1, device=cpu) = onnx::Gemm[alpha=1., beta=1., transB=1](%26, %linear_layers.4.weight, %linear_layers.4.bias) # /home/work/.miniconda3/envs/titaniumcar/lib/python3.7/site-packages/torch/nn/functional.py:1690:0\n",
      "  return (%27)\n",
      "\n"
     ]
    }
   ],
   "source": [
    "nn_model = Network().cpu()\n",
    "nn_model.load_state_dict(torch.load(\"../../data/weights/weights_torch_v3_19.weights\"))\n",
    "\n",
    "dummy_input = torch.randn(1, 1, 69, 223)\n",
    "\n",
    "torch.onnx.export(nn_model, dummy_input, \"../../data/weights/weights_torch_v3_19.onnx\", verbose=True)"
   ]
  },
  {
   "cell_type": "code",
   "execution_count": null,
   "metadata": {},
   "outputs": [],
   "source": []
  }
 ],
 "metadata": {
  "kernelspec": {
   "display_name": "Python 3",
   "language": "python",
   "name": "python3"
  },
  "language_info": {
   "codemirror_mode": {
    "name": "ipython",
    "version": 3
   },
   "file_extension": ".py",
   "mimetype": "text/x-python",
   "name": "python",
   "nbconvert_exporter": "python",
   "pygments_lexer": "ipython3",
   "version": "3.7.9"
  }
 },
 "nbformat": 4,
 "nbformat_minor": 4
}
