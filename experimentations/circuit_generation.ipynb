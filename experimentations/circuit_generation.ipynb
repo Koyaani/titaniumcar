{
 "cells": [
  {
   "cell_type": "code",
   "execution_count": 1,
   "metadata": {},
   "outputs": [],
   "source": [
    "from random import randrange\n",
    "\n",
    "import numpy as np\n",
    "\n",
    "# %matplotlib notebook\n",
    "import matplotlib.pyplot as plt\n",
    "import matplotlib.patches as mpt"
   ]
  },
  {
   "cell_type": "markdown",
   "metadata": {},
   "source": [
    "# Génération d'un circuit\n",
    "\n",
    "Nous voulions à un moment générer un circuit virtuel, la 1ère étape était de créer un parcours. Dans ce notebook, nous avons un peu expérimenté cette idée. "
   ]
  },
  {
   "cell_type": "code",
   "execution_count": 2,
   "metadata": {},
   "outputs": [],
   "source": [
    "def overlap_rect(x1, y1, w1, h1, x2, y2, w2, h2):\n",
    "    #To know if rectangles overlay each others, one corner must be outside and another be inside\n",
    "    if x2 <= x1 <= x2+w2 or x2 <= x1+w1 <= x2+w2:\n",
    "        return True\n",
    "    if y2 <= y1 <= y2+h2 or y2 <= y1+h1 <= y2+h2:\n",
    "        return True\n",
    "    return False\n",
    "\n",
    "def pt_is_in_rect(pt, list_of_points):\n",
    "    for point in list_of_points:\n",
    "        if pt in point:\n",
    "            continue\n",
    "        x_pt = pt[0]\n",
    "        y_pt = pt[1]\n",
    "        x_list_left_bottom = point[0][0]\n",
    "        y_list_left_bottom = point[0][1]\n",
    "        x_list_right_top = point[2][0]\n",
    "        y_list_right_top = point[2][1]\n",
    "        if (x_list_left_bottom <= x_pt and x_pt <= x_list_right_top) and (y_list_left_bottom <= y_pt and y_pt <= y_list_right_top):\n",
    "            return True\n",
    "    return False"
   ]
  },
  {
   "cell_type": "code",
   "execution_count": 3,
   "metadata": {},
   "outputs": [],
   "source": [
    "list_of_points = []\n",
    "list_of_rects = []\n",
    "MAX_NUMBER_OF_RECTANGLES = 7"
   ]
  },
  {
   "cell_type": "code",
   "execution_count": 4,
   "metadata": {
    "scrolled": true
   },
   "outputs": [
    {
     "data": {
      "image/png": "[encoded data removed]",
      "text/plain": [
       "<Figure size 432x288 with 1 Axes>"
      ]
     },
     "metadata": {
      "needs_background": "light"
     },
     "output_type": "display_data"
    }
   ],
   "source": [
    "x_base = -300\n",
    "y_base = -200\n",
    "width_base = 600\n",
    "height_base = 400\n",
    "rec = mpt.Rectangle((x_base, y_base), width_base, height_base, fill = False)\n",
    "\n",
    "list_of_points.append([[x_base, y_base], [x_base+width_base, y_base], [x_base+width_base, y_base+height_base], [x_base, y_base+height_base]])\n",
    "\n",
    "fig, ax = plt.subplots(1)\n",
    "ax.add_patch(rec)\n",
    "i = 0\n",
    "\n",
    "while i < MAX_NUMBER_OF_RECTANGLES:\n",
    "    x = randrange(-350, 250)\n",
    "    y = randrange(-275, 125)\n",
    "\n",
    "    width = randrange(80, 200)\n",
    "    height = randrange(75, 150)\n",
    "    if overlap_rect(x_base, y_base, width_base, height_base, x, y, width, height):\n",
    "        j = 0\n",
    "        pts = [[x, y], [x+width, y], [x+width, y+height], [x, y+height]]\n",
    "        for pt in pts:\n",
    "            if list_of_rects and pt_is_in_rect(pt, list_of_points):\n",
    "                j+=1\n",
    "    else:\n",
    "        continue\n",
    "    \n",
    "    if j>1:\n",
    "        continue\n",
    "    else:\n",
    "        i += 1\n",
    "\n",
    "    # Create a Rectangle patch\n",
    "    rec = mpt.Rectangle((x, y), width, height, fill = False)\n",
    "    \n",
    "    # Add the patch to the Axes\n",
    "    list_of_rects.append(rec)\n",
    "    ax.add_patch(rec)\n",
    "    list_of_points.append([[x, y], [x+width, y], [x+width, y+height], [x, y+height]])\n",
    "\n",
    "plt.xlim(-400,400)\n",
    "plt.ylim(-400,400)\n",
    "plt.show()"
   ]
  },
  {
   "cell_type": "code",
   "execution_count": 5,
   "metadata": {},
   "outputs": [
    {
     "name": "stdout",
     "output_type": "stream",
     "text": [
      "{(363, -185), (363, -118), (226, 203), (-306, -179), (240, -68), (242, -185), (-338, 122), (-306, -113), (396, 203), (-300, 200), (242, -216), (245, -185), (-153, 200), (-338, 264), (396, 86), (-153, 122), (300, -134), (300, -185), (226, 200), (428, -134), (432, -216), (-250, -267), (300, -200), (226, 86), (-250, -210), (-250, -179), (-181, -113), (-300, -113), (300, -68), (428, -247), (300, 86), (240, -185), (245, -200), (-300, -179), (-300, 122), (245, -134), (-300, -200), (242, -200), (363, -68), (242, -134), (363, -134), (245, -118), (432, -134), (-306, -210), (300, -118), (428, -118), (-153, 264), (-339, -267), (300, 200), (-339, -179), (245, -216), (245, -247), (-250, -200), (-181, -210), (-181, -200), (428, -216)}\n"
     ]
    }
   ],
   "source": [
    "#Récupérer tous les points d'intersection\n",
    "points = set()\n",
    "\n",
    "def get_intersection(x1, y1, x2, y2, all_points):\n",
    "    intersections = set()\n",
    "    \n",
    "    for pts in list_of_points:\n",
    "        for i in range(4):\n",
    "            if i!=3:\n",
    "                x3 = pts[i][0]\n",
    "                y3 = pts[i][1]\n",
    "                x4 = pts[i+1][0]\n",
    "                y4 = pts[i+1][1]\n",
    "            else:\n",
    "                x3 = pts[i][0]\n",
    "                y3 = pts[i][1]\n",
    "                x4 = pts[0][0]\n",
    "                y4 = pts[0][1]\n",
    "            \n",
    "            #Separer les droites verticales et horizontales !!!!!!\n",
    "            if x1==x2 and y3==y4:\n",
    "                if x3<=x1<=x4 or x4<=x1<=x3:\n",
    "                    if y1>=y3>=y2 or y2>=y3>=y1:\n",
    "                        intersections.add((x1,y3))\n",
    "\n",
    "            if y1==y2 and x3==x4:\n",
    "                if y3<=y1<=y4 or y4<=y1<=y3:\n",
    "                    if x1>=x3>=x2 or x2>=x3>=x1:\n",
    "                        intersections.add((x3,y1))\n",
    "    \n",
    "    return intersections\n",
    "\n",
    "for pts in list_of_points:\n",
    "    x = []\n",
    "    y = []\n",
    "    for i in range(4):\n",
    "        if i!=3:\n",
    "            points.update(get_intersection(pts[i][0], pts[i][1], pts[i+1][0], pts[i+1][1], list_of_points))\n",
    "        else:\n",
    "            points.update(get_intersection(pts[i][0], pts[i][1], pts[0][0], pts[0][1], list_of_points))\n",
    "\n",
    "print(points)"
   ]
  },
  {
   "cell_type": "code",
   "execution_count": 6,
   "metadata": {},
   "outputs": [
    {
     "name": "stdout",
     "output_type": "stream",
     "text": [
      "56\n"
     ]
    }
   ],
   "source": [
    "print(len(points))"
   ]
  },
  {
   "cell_type": "code",
   "execution_count": 7,
   "metadata": {},
   "outputs": [
    {
     "data": {
      "image/png": "[encoded data removed]",
      "text/plain": [
       "<Figure size 432x288 with 1 Axes>"
      ]
     },
     "metadata": {
      "needs_background": "light"
     },
     "output_type": "display_data"
    }
   ],
   "source": [
    "x = []\n",
    "y = []\n",
    "pts = []\n",
    "\n",
    "for pt in points:\n",
    "    x.append(pt[0])\n",
    "    y.append(pt[1])\n",
    "\n",
    "plt.plot(x,y, \"ro\")\n",
    "plt.xlim(-400,400)\n",
    "plt.ylim(-400,400)\n",
    "plt.show()"
   ]
  },
  {
   "cell_type": "code",
   "execution_count": 8,
   "metadata": {},
   "outputs": [],
   "source": [
    "# 4 points par rectangle puis dessiner des lignes entre tous les points. Obtenir la même chose mais en retraçant\n",
    "# les lignes."
   ]
  },
  {
   "cell_type": "code",
   "execution_count": 9,
   "metadata": {},
   "outputs": [
    {
     "data": {
      "image/png": "[encoded data removed]",
      "text/plain": [
       "<Figure size 432x288 with 1 Axes>"
      ]
     },
     "metadata": {
      "needs_background": "light"
     },
     "output_type": "display_data"
    }
   ],
   "source": [
    "fig, ax = plt.subplots()\n",
    "\n",
    "for pts in list_of_points:\n",
    "    x = []\n",
    "    y = []\n",
    "    for i in range(4):\n",
    "        if i!=3:\n",
    "            x.append(pts[i][0])\n",
    "            x.append(pts[i+1][0])\n",
    "            y.append(pts[i][1])\n",
    "            y.append(pts[i+1][1])\n",
    "        elif i==3:\n",
    "            x.append(pts[i][0])\n",
    "            x.append(pts[0][0])\n",
    "            y.append(pts[i][1])\n",
    "            y.append(pts[0][1])\n",
    "    \n",
    "    ax.plot(x,y)\n",
    "\n",
    "plt.show()"
   ]
  },
  {
   "cell_type": "code",
   "execution_count": 10,
   "metadata": {},
   "outputs": [
    {
     "name": "stdout",
     "output_type": "stream",
     "text": [
      "[[[-300, -200], [300, -200], [300, 200], [-300, 200]], [[240, -185], [363, -185], [363, -68], [240, -68]], [[-338, 122], [-153, 122], [-153, 264], [-338, 264]], [[226, 86], [396, 86], [396, 203], [226, 203]], [[245, -247], [428, -247], [428, -118], [245, -118]], [[-306, -210], [-181, -210], [-181, -113], [-306, -113]], [[-339, -267], [-250, -267], [-250, -179], [-339, -179]], [[242, -216], [432, -216], [432, -134], [242, -134]]]\n"
     ]
    }
   ],
   "source": [
    "print(list_of_points)"
   ]
  },
  {
   "cell_type": "code",
   "execution_count": 11,
   "metadata": {},
   "outputs": [],
   "source": [
    "#Determinate extern points and eliminate the inside ones\n",
    "def pt_is_in_rect(pt, list_of_rect):\n",
    "    for rect in list_of_rect:\n",
    "        if pt in rect:\n",
    "            continue\n",
    "        x_pt = pt[0]\n",
    "        y_pt = pt[1]\n",
    "        x_list_left_bottom = rect[0][0]\n",
    "        y_list_left_bottom = rect[0][1]\n",
    "        x_list_right_top = rect[2][0]\n",
    "        y_list_right_top = rect[2][1]\n",
    "        if (x_list_left_bottom <= x_pt and x_pt <= x_list_right_top) and (y_list_left_bottom <= y_pt and y_pt <= y_list_right_top):\n",
    "            return True\n",
    "    return False\n",
    "    \n",
    "j=0\n",
    "good_ones = []\n",
    "list_all = list_of_points\n",
    "for pts in list_of_points:\n",
    "    for pt in pts:\n",
    "        if pt_is_in_rect(pt, list_all)==False:\n",
    "            good_ones.append(pt)\n",
    "    j+=1\n",
    "\n",
    "        "
   ]
  },
  {
   "cell_type": "code",
   "execution_count": 12,
   "metadata": {},
   "outputs": [
    {
     "data": {
      "image/png": "[encoded data removed]",
      "text/plain": [
       "<Figure size 432x288 with 1 Axes>"
      ]
     },
     "metadata": {
      "needs_background": "light"
     },
     "output_type": "display_data"
    }
   ],
   "source": [
    "x = []\n",
    "y = []\n",
    "pts = []\n",
    "\n",
    "for pt in good_ones:\n",
    "    x.append(pt[0])\n",
    "    y.append(pt[1])\n",
    "    pts.append((pt[0], pt[1]))\n",
    "\n",
    "plt.plot(x,y)\n",
    "plt.show()"
   ]
  },
  {
   "cell_type": "code",
   "execution_count": 13,
   "metadata": {},
   "outputs": [
    {
     "name": "stdout",
     "output_type": "stream",
     "text": [
      "[(363, -68), (-338, 122), (-153, 264), (-338, 264), (396, 86), (396, 203), (226, 203), (245, -247), (428, -247), (428, -118), (-181, -210), (-306, -113), (-339, -267), (-250, -267), (-339, -179), (242, -216), (432, -216), (432, -134)]\n"
     ]
    }
   ],
   "source": [
    "print(pts)"
   ]
  },
  {
   "cell_type": "code",
   "execution_count": 14,
   "metadata": {},
   "outputs": [],
   "source": [
    "#Reorder points to get a continuous line\n",
    "import math\n",
    "starting_point = pts[randrange(len(pts))]\n",
    "\n",
    "def distance(pt1, pt2):\n",
    "    return math.sqrt(math.pow(pt1[0]-pt2[0], 2) + math.pow(pt1[1]-pt2[1], 2))\n",
    "\n",
    "dist_min = math.inf\n",
    "for pt in pts:\n",
    "    if starting_point == pt:\n",
    "        continue\n",
    "    dist = distance(pt, starting_point)\n",
    "    if dist < dist_min:\n",
    "        dist_min = dist\n",
    "        nearest = pt\n",
    "        \n",
    "# This one is not finished. Can't define which point is nearest from one other and verify that lines\n",
    "# are not crossing other lines."
   ]
  },
  {
   "cell_type": "code",
   "execution_count": null,
   "metadata": {},
   "outputs": [],
   "source": []
  }
 ],
 "metadata": {
  "kernelspec": {
   "display_name": "Python 3",
   "language": "python",
   "name": "python3"
  },
  "language_info": {
   "codemirror_mode": {
    "name": "ipython",
    "version": 3
   },
   "file_extension": ".py",
   "mimetype": "text/x-python",
   "name": "python",
   "nbconvert_exporter": "python",
   "pygments_lexer": "ipython3",
   "version": "3.6.8"
  }
 },
 "nbformat": 4,
 "nbformat_minor": 4
}
