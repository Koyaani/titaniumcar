{
 "cells": [
  {
   "cell_type": "code",
   "execution_count": 15,
   "metadata": {},
   "outputs": [
    {
     "name": "stdout",
     "output_type": "stream",
     "text": [
      "1.14.0\n"
     ]
    }
   ],
   "source": [
    "import tensorflow as tf\n",
    "from tensorflow import keras\n",
    "from tensorflow.keras import layers\n",
    "\n",
    "import numpy as np\n",
    "import cv2\n",
    "import pandas as pd\n",
    "\n",
    "import os\n",
    "\n",
    "from tqdm.notebook import tqdm, tnrange\n",
    "import matplotlib.pyplot as plt\n",
    "\n",
    "print(tf.__version__)"
   ]
  },
  {
   "cell_type": "markdown",
   "metadata": {},
   "source": [
    "# Deep learning\n",
    "\n",
    "C'est dans ce notebook que le dernier modèle que la voiture possède a été calculé\n",
    "\n",
    "Il se veut complet et modulable afin de pouvoir servir de base à la construction d'un autre réseau de neurones. Cela va du chargement des données à la validation du modèle.\n",
    "\n",
    "Cf partie 6, section 3 du rapport\n",
    "\n",
    "__/!\\ /!\\ /!\\ Attention à ne pas écraser les poids précédant /!\\ /!\\ /!\\__\n",
    "\n",
    "### Segmentation du code\n",
    "\n",
    " 1. Définition des constantes\n",
    " 2. Création de la chaine de traitement\n",
    "     * Crop\n",
    "     * Normalize\n",
    "     * DataFormatting\n",
    "     * \\+ récupération des labels\n",
    " 3. Chargement des données\n",
    " 4. \\+ Visualisation de l'histogramme d'une photo\n",
    " 5. Definition du modèle\n",
    "     * et d'un plus petit\n",
    " 6. Vérification des inputs et outputs du modèle\n",
    " 7. Entrainement du modèle\n",
    " 8. Affichage de l'évolution de la \"loss function\"\n",
    " 9. Visualisation des performances du modèle\n",
    " 10. Enregistrement des poids et test du fichier"
   ]
  },
  {
   "cell_type": "markdown",
   "metadata": {},
   "source": [
    "## Définition des constantes"
   ]
  },
  {
   "cell_type": "code",
   "execution_count": 2,
   "metadata": {},
   "outputs": [],
   "source": [
    "DATASET_PATH = \"../data/datasetv3/\""
   ]
  },
  {
   "cell_type": "markdown",
   "metadata": {},
   "source": [
    "# Création de la chaine de traitement"
   ]
  },
  {
   "cell_type": "code",
   "execution_count": 3,
   "metadata": {},
   "outputs": [],
   "source": [
    "class Normalize():\n",
    "    \"\"\"\n",
    "    Normalized the image with mean of 0 and std of 1\n",
    "    \"\"\"\n",
    "    def __call__(self, sample):\n",
    "        \"\"\"\n",
    "        Apply the transformation\n",
    "        \n",
    "        @param image: a grayscale OpenCV image\n",
    "        @return: a Numpy array normalized image with dimension of (69, 223, 1)\n",
    "        \"\"\"\n",
    "        norm_img = np.zeros(sample.shape)\n",
    "        norm_img = cv2.normalize(sample, norm_img, 0, 1, cv2.NORM_MINMAX)\n",
    "        norm_img = norm_img.reshape(69, 223, -1)\n",
    "        return norm_img\n",
    "    \n",
    "class Crop:\n",
    "    \"\"\"\n",
    "    Remove pixels on the top and the right\n",
    "    Some right pixels are bugged...\n",
    "    \"\"\"\n",
    "    def __call__(self, sample):\n",
    "        \"\"\"\n",
    "        Apply the transformation\n",
    "\n",
    "        @param image: a OpenCV image\n",
    "        @return: the cropped image\n",
    "        \"\"\"\n",
    "        width = sample.shape[1]\n",
    "        return sample[45:, :width-5]\n",
    "    \n",
    "class DataFormatting:\n",
    "    \"\"\"\n",
    "    Chnage data type of a Numpy array\n",
    "    \"\"\"\n",
    "    def __call__(self, sample):\n",
    "        \"\"\"\n",
    "        Apply the transformation\n",
    "\n",
    "        @param sample: a Numpy image\n",
    "        @return: the Numpy float32 image\n",
    "        \"\"\"\n",
    "        image = sample.astype(np.float32)\n",
    "        return image\n",
    "    \n",
    "def get_labels(name):    \n",
    "    \"\"\"\n",
    "    Dataset labels are contained in the name of the files.\n",
    "    \n",
    "    bhz_frame12_0.079_0.982.png\n",
    "    -> direction: 0.079\n",
    "    -> speed: 0,964\n",
    "    \n",
    "    @param name: the filename of the image \n",
    "    @return direction: the direction value (float between -1 & 1)\n",
    "    @return speed: the speed value (float between -1 & 1)\n",
    "    \"\"\"\n",
    "    labels = name.split(\"_\")\n",
    "    \n",
    "    direction = float(labels[2])\n",
    "    if direction < -1:\n",
    "        direction = -1\n",
    "    elif direction > 1:\n",
    "        direction = 1\n",
    "    \n",
    "    speed =  float(labels[3][:-4])\n",
    "    speed *= 2\n",
    "    speed -= 1\n",
    "    if speed < -1:\n",
    "        speed = -1\n",
    "    elif speed > 1:\n",
    "        speed = 1\n",
    "    \n",
    "    return direction, speed"
   ]
  },
  {
   "cell_type": "markdown",
   "metadata": {},
   "source": [
    "# Chargement des données"
   ]
  },
  {
   "cell_type": "code",
   "execution_count": 4,
   "metadata": {},
   "outputs": [
    {
     "data": {
      "application/vnd.jupyter.widget-view+json": {
       "model_id": "8a774ac0eca0420a9e7bc980be1db2de",
       "version_major": 2,
       "version_minor": 0
      },
      "text/plain": [
       "  0%|          | 0/18829 [00:00<?, ?it/s]"
      ]
     },
     "metadata": {},
     "output_type": "display_data"
    },
    {
     "name": "stdout",
     "output_type": "stream",
     "text": [
      "Lenght of the whole dataset : 18829\n",
      "Number of labels : 2\n",
      "Lenght of the trainning dataset : 15063\n",
      "Lenght of the test dataset : 3766\n"
     ]
    }
   ],
   "source": [
    "image_name_list = np.array([\n",
    "            name for name in os.listdir(DATASET_PATH)\n",
    "                if os.path.isfile(os.path.join(DATASET_PATH, name)) and \".png\" in name\n",
    "        ])\n",
    "\n",
    "transformations = [\n",
    "    Crop(),\n",
    "    Normalize(),\n",
    "    DataFormatting(),\n",
    "]\n",
    "\n",
    "X = []\n",
    "y = []\n",
    "\n",
    "# load images and their labels in Numpy arrays\n",
    "for name in tqdm(image_name_list):\n",
    "    img_path = os.path.join(DATASET_PATH, name)\n",
    "    image = cv2.imread(img_path, cv2.IMREAD_GRAYSCALE)\n",
    "    # add the channel axis\n",
    "    image = image.reshape(114, 228, -1)\n",
    "\n",
    "    labels = get_labels(name)\n",
    "\n",
    "    for transformation in transformations:\n",
    "        image = transformation(image)\n",
    "\n",
    "    X.append(image)\n",
    "    y.append(labels)\n",
    "    \n",
    "    \"\"\"\n",
    "    image = cv2.flip(image, 1)\n",
    "    image = image.reshape(69, 223, -1)\n",
    "    labels = -labels[0], labels[1]\n",
    "    X.append(image)\n",
    "    y.append(labels)\n",
    "    \"\"\"\n",
    "    \n",
    "X = np.array(X)\n",
    "y = np.array(y)\n",
    "\n",
    "# Handmade shuffle of X and y\n",
    "randomize = np.arange(len(X))\n",
    "np.random.shuffle(randomize)\n",
    "X = X[randomize]\n",
    "y = y[randomize]\n",
    "\n",
    "print(\"Lenght of the whole dataset :\", len(X))\n",
    "\n",
    "\n",
    "# Handmade train test split\n",
    "size_train = 0.8\n",
    "idx_lim = int(size_train*len(X))\n",
    "\n",
    "train_dataset = X[:idx_lim], y[:idx_lim]\n",
    "test_dataset = X[idx_lim:], y[idx_lim:]\n",
    "\n",
    "del X\n",
    "del y\n",
    "\n",
    "print(\"Number of labels :\", len(train_dataset))\n",
    "print(\"Lenght of the trainning dataset :\", len(train_dataset[0]))\n",
    "print(\"Lenght of the test dataset :\", len(test_dataset[0]))"
   ]
  },
  {
   "cell_type": "markdown",
   "metadata": {},
   "source": [
    "## Visualisation de l'histogramme d'une photo"
   ]
  },
  {
   "cell_type": "code",
   "execution_count": 5,
   "metadata": {},
   "outputs": [
    {
     "data": {
      "image/png": "[encoded data removed]",
      "text/plain": [
       "<Figure size 432x288 with 1 Axes>"
      ]
     },
     "metadata": {
      "needs_background": "light"
     },
     "output_type": "display_data"
    }
   ],
   "source": [
    "image = train_dataset[0][0].reshape(69, 223)\n",
    "plt.figure()\n",
    "plt.hist(image)\n",
    "plt.show()"
   ]
  },
  {
   "cell_type": "markdown",
   "metadata": {},
   "source": [
    "# Definition du modèle\n",
    "\n",
    "Les 2 modèles sont composés de petites couches de convolution suivies d'un réseau dense. Il y a 2 valeurs en sortie, vitesse et angle de rotation."
   ]
  },
  {
   "cell_type": "code",
   "execution_count": 6,
   "metadata": {},
   "outputs": [],
   "source": [
    "def build_model():\n",
    "    model = keras.Sequential([\n",
    "        layers.Conv2D(3, (3, 3), padding=\"valid\", activation=\"relu\"),\n",
    "        layers.MaxPooling2D(pool_size=(2, 2)),\n",
    "        \n",
    "        layers.Conv2D(3, (3, 3), padding=\"valid\", activation=\"relu\"),\n",
    "        layers.MaxPooling2D(pool_size=(2, 2)),\n",
    "        \n",
    "        layers.Conv2D(3, (3, 3), padding=\"valid\", activation=\"relu\"),\n",
    "        layers.MaxPooling2D(pool_size=(2, 2)),\n",
    "        \n",
    "        layers.Flatten(),\n",
    "        \n",
    "        layers.Dense(50, activation=\"relu\"),\n",
    "        layers.Dense(8, activation=\"relu\"),\n",
    "        layers.Dense(2, activation=None),\n",
    "    ])\n",
    "\n",
    "    optimizer = tf.keras.optimizers.Adam(0.002)\n",
    "\n",
    "    model.compile(loss='mean_squared_error',\n",
    "                optimizer=optimizer,\n",
    "                metrics=['mean_absolute_error', 'mean_squared_error'])\n",
    "    \n",
    "    return model"
   ]
  },
  {
   "cell_type": "markdown",
   "metadata": {},
   "source": [
    "## et d'un plus petit"
   ]
  },
  {
   "cell_type": "code",
   "execution_count": 7,
   "metadata": {},
   "outputs": [],
   "source": [
    "def build_model_small():\n",
    "    model = keras.Sequential([\n",
    "        layers.Conv2D(3, (3, 3), padding=\"valid\", activation=\"relu\"),\n",
    "        layers.MaxPooling2D(pool_size=(4, 4)),\n",
    "        \n",
    "        layers.Conv2D(3, (3, 3), padding=\"valid\", activation=\"relu\"),\n",
    "        layers.MaxPooling2D(pool_size=(4, 4)),\n",
    "        \n",
    "        layers.Flatten(),\n",
    "        \n",
    "        layers.Dense(50, activation=\"relu\"),\n",
    "        layers.Dense(6, activation=\"relu\"),\n",
    "        layers.Dense(2, activation=None),\n",
    "    ])\n",
    "\n",
    "    optimizer = tf.keras.optimizers.Adam(0.002)\n",
    "\n",
    "    model.compile(loss='mean_squared_error',\n",
    "                optimizer=optimizer,\n",
    "                metrics=['mean_absolute_error', 'mean_squared_error'])\n",
    "    \n",
    "    print(\"Warning! It is the small model that is defined\\n\"*3)\n",
    "    \n",
    "    return model"
   ]
  },
  {
   "cell_type": "markdown",
   "metadata": {},
   "source": [
    "# Vérification des inputs et outputs du modèle"
   ]
  },
  {
   "cell_type": "code",
   "execution_count": 8,
   "metadata": {},
   "outputs": [
    {
     "name": "stdout",
     "output_type": "stream",
     "text": [
      "WARNING:tensorflow:From /home/work/.miniconda3/envs/titaniumcar/lib/python3.7/site-packages/tensorflow/python/ops/init_ops.py:1251: calling VarianceScaling.__init__ (from tensorflow.python.ops.init_ops) with dtype is deprecated and will be removed in a future version.\n",
      "Instructions for updating:\n",
      "Call initializer instance with the dtype argument instead of passing it to the constructor\n",
      "Model: \"sequential\"\n",
      "_________________________________________________________________\n",
      "Layer (type)                 Output Shape              Param #   \n",
      "=================================================================\n",
      "conv2d (Conv2D)              multiple                  30        \n",
      "_________________________________________________________________\n",
      "max_pooling2d (MaxPooling2D) multiple                  0         \n",
      "_________________________________________________________________\n",
      "conv2d_1 (Conv2D)            multiple                  84        \n",
      "_________________________________________________________________\n",
      "max_pooling2d_1 (MaxPooling2 multiple                  0         \n",
      "_________________________________________________________________\n",
      "conv2d_2 (Conv2D)            multiple                  84        \n",
      "_________________________________________________________________\n",
      "max_pooling2d_2 (MaxPooling2 multiple                  0         \n",
      "_________________________________________________________________\n",
      "flatten (Flatten)            multiple                  0         \n",
      "_________________________________________________________________\n",
      "dense (Dense)                multiple                  23450     \n",
      "_________________________________________________________________\n",
      "dense_1 (Dense)              multiple                  408       \n",
      "_________________________________________________________________\n",
      "dense_2 (Dense)              multiple                  18        \n",
      "=================================================================\n",
      "Total params: 24,074\n",
      "Trainable params: 24,074\n",
      "Non-trainable params: 0\n",
      "_________________________________________________________________\n"
     ]
    },
    {
     "data": {
      "text/plain": [
       "array([[ 0.01293147, -0.05989755],\n",
       "       [ 0.22002943, -0.24172246],\n",
       "       [ 0.06145897,  0.03059793],\n",
       "       [ 0.05954167, -0.00850781],\n",
       "       [ 0.06643577,  0.02567903],\n",
       "       [ 0.10886352, -0.10066431],\n",
       "       [ 0.12313315, -0.03337312],\n",
       "       [ 0.08515117, -0.04590635],\n",
       "       [ 0.08751025,  0.03168735],\n",
       "       [ 0.02891751, -0.04597643]], dtype=float32)"
      ]
     },
     "execution_count": 8,
     "metadata": {},
     "output_type": "execute_result"
    }
   ],
   "source": [
    "model = build_model()\n",
    "model.build((10, 69, 223, 1))\n",
    "model.summary()\n",
    "\n",
    "example_batch = test_dataset[0][:10]\n",
    "example_result = model.predict(example_batch)\n",
    "example_result"
   ]
  },
  {
   "cell_type": "markdown",
   "metadata": {},
   "source": [
    "# Entrainement du modèle"
   ]
  },
  {
   "cell_type": "code",
   "execution_count": 10,
   "metadata": {},
   "outputs": [
    {
     "data": {
      "application/vnd.jupyter.widget-view+json": {
       "model_id": "4850933709f4435a91430b196c1479a8",
       "version_major": 2,
       "version_minor": 0
      },
      "text/plain": [
       "Epochs:   0%|          | 0/20 [00:00<?, ?it/s]"
      ]
     },
     "metadata": {},
     "output_type": "display_data"
    },
    {
     "name": "stdout",
     "output_type": "stream",
     "text": [
      "MSE: 0.08503375830986688 - Validation MSE: 0.08818241208791733\n",
      "MSE: 0.06115677554825035 - Validation MSE: 0.07901923358440399\n",
      "MSE: 0.04979606420698255 - Validation MSE: 0.07437610626220703\n",
      "MSE: 0.041956270494772685 - Validation MSE: 0.07218709588050842\n",
      "MSE: 0.036456935507133297 - Validation MSE: 0.0720866397023201\n",
      "MSE: 0.03231209688197775 - Validation MSE: 0.07426981627941132\n"
     ]
    }
   ],
   "source": [
    "model = build_model()\n",
    "\n",
    "EPOCHS = 20\n",
    "epoch_evol = tqdm(total=EPOCHS, desc=\"Epochs\")\n",
    "\n",
    "# Display loss every 3 epochs\n",
    "class PrintDot(keras.callbacks.Callback):    \n",
    "    def on_epoch_end(self, epoch, logs):\n",
    "        epoch_evol.update()\n",
    "        if epoch % 3 == 2:\n",
    "            print(f\"MSE: {logs['loss']} - Validation MSE: {logs['val_mean_squared_error']}\")\n",
    "\n",
    "history = model.fit(\n",
    "    train_dataset[0], train_dataset[1],\n",
    "    epochs=EPOCHS,\n",
    "    validation_split = 0.2, verbose=0,\n",
    "    callbacks=[PrintDot()])"
   ]
  },
  {
   "cell_type": "markdown",
   "metadata": {},
   "source": [
    "# Affichage de l'évolution de la \"loss function\""
   ]
  },
  {
   "cell_type": "code",
   "execution_count": 11,
   "metadata": {},
   "outputs": [
    {
     "data": {
      "text/plain": [
       "<AxesSubplot:>"
      ]
     },
     "execution_count": 11,
     "metadata": {},
     "output_type": "execute_result"
    },
    {
     "data": {
      "image/png": "[encoded data removed]",
      "text/plain": [
       "<Figure size 432x288 with 1 Axes>"
      ]
     },
     "metadata": {
      "needs_background": "light"
     },
     "output_type": "display_data"
    }
   ],
   "source": [
    "hist = pd.DataFrame(history.history)\n",
    "hist['epoch'] = history.epoch\n",
    "\n",
    "hist[['mean_squared_error', 'val_mean_squared_error']].plot()"
   ]
  },
  {
   "cell_type": "markdown",
   "metadata": {},
   "source": [
    "# Visualisation des performances du modèle\n",
    "\n",
    "Si tous les points des graphiques sont sur la ligne rouge, alors le modèle prédit exactement la vérité terrain."
   ]
  },
  {
   "cell_type": "code",
   "execution_count": 12,
   "metadata": {},
   "outputs": [
    {
     "name": "stdout",
     "output_type": "stream",
     "text": [
      "(3766, 2)\n"
     ]
    },
    {
     "data": {
      "image/png": "[encoded data removed]",
      "text/plain": [
       "<Figure size 432x288 with 1 Axes>"
      ]
     },
     "metadata": {
      "needs_background": "light"
     },
     "output_type": "display_data"
    },
    {
     "name": "stdout",
     "output_type": "stream",
     "text": [
      "(3766, 2)\n"
     ]
    },
    {
     "data": {
      "image/png": "[encoded data removed]",
      "text/plain": [
       "<Figure size 432x288 with 1 Axes>"
      ]
     },
     "metadata": {
      "needs_background": "light"
     },
     "output_type": "display_data"
    }
   ],
   "source": [
    "test_predictions = model.predict(test_dataset[0])\n",
    "print(test_predictions.shape)\n",
    "\n",
    "test_acc_count = 0\n",
    "loss_sum = 0\n",
    "\n",
    "plt.figure()\n",
    "plt.plot([-2, 2], [-2, 2], color=\"red\")\n",
    "plt.plot(test_dataset[1][:, 0], test_predictions[:, 0], ',', color=\"blue\")\n",
    "plt.xlabel(\"true value\")\n",
    "plt.ylabel(\"predicted value\")\n",
    "plt.show()\n",
    "\n",
    "plt.figure()\n",
    "plt.plot([-2, 2], [-2, 2], color=\"red\")\n",
    "plt.plot(test_dataset[1][:, 1], test_predictions[:, 1], ',', color=\"blue\")\n",
    "plt.xlabel(\"true value\")\n",
    "plt.ylabel(\"predicted value\")\n",
    "\n",
    "print(test_dataset[1].shape)\n",
    "\n",
    "plt.show()"
   ]
  },
  {
   "cell_type": "markdown",
   "metadata": {},
   "source": [
    "# Enregistrement des poids et test du fichier"
   ]
  },
  {
   "cell_type": "code",
   "execution_count": 13,
   "metadata": {},
   "outputs": [],
   "source": [
    "model.save_weights('../data/weights/weights_tf_last.h5')"
   ]
  },
  {
   "cell_type": "code",
   "execution_count": 14,
   "metadata": {},
   "outputs": [
    {
     "name": "stdout",
     "output_type": "stream",
     "text": [
      "input shape: (3766, 69, 223, 1)\n",
      "\n",
      "prediction: [[ 0.05449308 -0.56065977]\n",
      " [-0.03591274 -0.57370234]\n",
      " [-0.12544139  0.05359633]\n",
      " ...\n",
      " [-0.1121867   0.1499382 ]\n",
      " [ 0.1086064  -0.26476407]\n",
      " [ 0.08843155  0.12935296]]\n",
      "prediction shape: (3766, 2)\n"
     ]
    }
   ],
   "source": [
    "# Recreate same architecture\n",
    "test_model = keras.Sequential([\n",
    "    layers.Conv2D(3, (3, 3), padding=\"valid\", activation=\"relu\"),\n",
    "    layers.MaxPooling2D(pool_size=(2, 2)),\n",
    "\n",
    "    layers.Conv2D(3, (3, 3), padding=\"valid\", activation=\"relu\"),\n",
    "    layers.MaxPooling2D(pool_size=(2, 2)),\n",
    "\n",
    "    layers.Conv2D(3, (3, 3), padding=\"valid\", activation=\"relu\"),\n",
    "    layers.MaxPooling2D(pool_size=(2, 2)),\n",
    "\n",
    "    layers.Flatten(),\n",
    "\n",
    "    layers.Dense(50, activation=\"relu\"),\n",
    "    layers.Dense(8, activation=\"relu\"),\n",
    "    layers.Dense(2, activation=None),\n",
    "])\n",
    "\n",
    "test_model.build((1, 69, 223, 1))\n",
    "\n",
    "# load weights\n",
    "test_model.load_weights('../data/weights/weights_tf_last.h5')\n",
    "\n",
    "# and test with a frame\n",
    "prediction = test_model.predict(test_dataset[0])\n",
    "\n",
    "print(\"input shape:\", test_dataset[0].shape)\n",
    "print()\n",
    "print(\"prediction:\", prediction)\n",
    "print(\"prediction shape:\", prediction.shape)"
   ]
  },
  {
   "cell_type": "code",
   "execution_count": null,
   "metadata": {},
   "outputs": [],
   "source": []
  }
 ],
 "metadata": {
  "kernelspec": {
   "display_name": "Python 3",
   "language": "python",
   "name": "python3"
  },
  "language_info": {
   "codemirror_mode": {
    "name": "ipython",
    "version": 3
   },
   "file_extension": ".py",
   "mimetype": "text/x-python",
   "name": "python",
   "nbconvert_exporter": "python",
   "pygments_lexer": "ipython3",
   "version": "3.6.8"
  }
 },
 "nbformat": 4,
 "nbformat_minor": 4
}
